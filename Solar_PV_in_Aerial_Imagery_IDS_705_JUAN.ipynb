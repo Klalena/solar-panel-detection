{
  "nbformat": 4,
  "nbformat_minor": 0,
  "metadata": {
    "colab": {
      "name": "Solar PV in Aerial Imagery - IDS 705.ipynb",
      "provenance": [],
      "collapsed_sections": [],
      "authorship_tag": "ABX9TyNNXTOBTZL6ROpS9NmV3Evv",
      "include_colab_link": true
    },
    "kernelspec": {
      "name": "python3",
      "display_name": "Python 3"
    }
  },
  "cells": [
    {
      "cell_type": "markdown",
      "metadata": {
        "id": "view-in-github",
        "colab_type": "text"
      },
      "source": [
        "<a href=\"https://colab.research.google.com/github/arathee2/black-mamba/blob/master/Solar_PV_in_Aerial_Imagery_IDS_705_JUAN.ipynb\" target=\"_parent\"><img src=\"https://colab.research.google.com/assets/colab-badge.svg\" alt=\"Open In Colab\"/></a>"
      ]
    },
    {
      "cell_type": "code",
      "metadata": {
        "id": "aufOFFq3VvIw",
        "colab_type": "code",
        "outputId": "073e5aa9-8691-487d-d6bb-7564d884f84e",
        "colab": {
          "base_uri": "https://localhost:8080/",
          "height": 34
        }
      },
      "source": [
        "import tensorflow as tf\n",
        "import pandas as pd\n",
        "import numpy as np\n",
        "import matplotlib.pyplot as plt\n",
        "import matplotlib as mpl\n",
        "from sklearn.model_selection import StratifiedKFold\n",
        "from sklearn.neighbors import KNeighborsClassifier\n",
        "import sklearn.metrics as metrics\n",
        "from sklearn.model_selection import train_test_split\n",
        "\n",
        "# Google Drive Connection\n",
        "from google.colab import drive\n",
        "drive.mount('/content/drive')"
      ],
      "execution_count": 0,
      "outputs": [
        {
          "output_type": "stream",
          "text": [
            "Drive already mounted at /content/drive; to attempt to forcibly remount, call drive.mount(\"/content/drive\", force_remount=True).\n"
          ],
          "name": "stdout"
        }
      ]
    },
    {
      "cell_type": "code",
      "metadata": {
        "id": "y6Bgl1fUboUN",
        "colab_type": "code",
        "outputId": "21f1e802-b291-467d-9732-3883cc1ffab4",
        "colab": {
          "base_uri": "https://localhost:8080/",
          "height": 50
        }
      },
      "source": [
        "# Load Kaggle images\n",
        "\n",
        "!ls \"/content/drive/My Drive/kaggle\" \n",
        "\n",
        "'''\n",
        "Set directory parameters\n",
        "'''\n",
        "dir_train_images  = '/content/drive/My Drive/kaggle/training/'\n",
        "dir_test_images   = '/content/drive/My Drive/kaggle/testing/'\n",
        "dir_train_labels  = '/content/drive/My Drive/kaggle/labels_training.csv'\n",
        "dir_test_ids      = '/content/drive/My Drive/kaggle/sample_submission.csv'"
      ],
      "execution_count": 0,
      "outputs": [
        {
          "output_type": "stream",
          "text": [
            "labels_training.csv    solar_classification.py\ttraining\n",
            "sample_submission.csv  testing\n"
          ],
          "name": "stdout"
        }
      ]
    },
    {
      "cell_type": "code",
      "metadata": {
        "id": "z_OOYzCYeFsz",
        "colab_type": "code",
        "colab": {}
      },
      "source": [
        "def load_data(dir_data, dir_labels, training=True):\n",
        "    ''' Load each of the image files into memory \n",
        "\n",
        "    While this is feasible with a smaller dataset, for larger datasets,\n",
        "    not all the images would be able to be loaded into memory\n",
        "\n",
        "    When training=True, the labels are also loaded\n",
        "    '''\n",
        "    labels_pd = pd.read_csv(dir_labels)\n",
        "    ids       = labels_pd.id.values\n",
        "    data      = []\n",
        "    for identifier in ids:\n",
        "        fname     = dir_data + identifier.astype(str) + '.tif'\n",
        "        image     = mpl.image.imread(fname)\n",
        "        data.append(image)\n",
        "    data = np.array(data) # Convert to Numpy array\n",
        "    if training:\n",
        "        labels = labels_pd.label.values\n",
        "        return data, labels\n",
        "    else:\n",
        "        return data, ids"
      ],
      "execution_count": 0,
      "outputs": []
    },
    {
      "cell_type": "code",
      "metadata": {
        "id": "7m__VxywizMP",
        "colab_type": "code",
        "colab": {}
      },
      "source": [
        "# Split available images in training and validation\n",
        "images, labels = load_data(dir_train_images, dir_train_labels, training=True)\n",
        "\n",
        "training_images, validation_images, training_labels, validation_labels = train_test_split(images, labels, test_size=0.3)\n",
        "test_images, test_ids = load_data(dir_test_images, dir_test_ids, training=False)"
      ],
      "execution_count": 0,
      "outputs": []
    },
    {
      "cell_type": "code",
      "metadata": {
        "id": "xmGC1vXklHiX",
        "colab_type": "code",
        "outputId": "d71a7939-4ba0-488b-ad01-f2bddd7abae0",
        "colab": {
          "base_uri": "https://localhost:8080/",
          "height": 118
        }
      },
      "source": [
        "print(training_images.shape)\n",
        "print(training_labels.shape)\n",
        "print(validation_images.shape)\n",
        "print(validation_labels.shape)\n",
        "print(test_images.shape)\n",
        "print(test_labels.shape)"
      ],
      "execution_count": 103,
      "outputs": [
        {
          "output_type": "stream",
          "text": [
            "(1050, 101, 101, 3)\n",
            "(1050,)\n",
            "(450, 101, 101, 3)\n",
            "(450,)\n",
            "(558, 101, 101, 3)\n",
            "(558,)\n"
          ],
          "name": "stdout"
        }
      ]
    },
    {
      "cell_type": "code",
      "metadata": {
        "id": "OR49hT4BlzJU",
        "colab_type": "code",
        "colab": {}
      },
      "source": [
        "training_images=training_images / 255.0\n",
        "validation_images=validation_images / 255.0\n",
        "test_images=test_images/255.0"
      ],
      "execution_count": 0,
      "outputs": []
    },
    {
      "cell_type": "code",
      "metadata": {
        "id": "Pv62gS6vl7Fp",
        "colab_type": "code",
        "colab": {}
      },
      "source": [
        "# CNN\n",
        "\n",
        "model = tf.keras.models.Sequential([\n",
        "  tf.keras.layers.Conv2D(64, (3,3), activation='relu', input_shape=(101, 101, 3)), # 64 convolutions or 'filters' each filter is 3x3\n",
        "  tf.keras.layers.MaxPooling2D(2, 2), # Pooling with 2x2 matrix\n",
        "  tf.keras.layers.Conv2D(64, (3,3), activation='relu'), # 64 convolutions or 'filters' each filter is 3x3\n",
        "  tf.keras.layers.MaxPooling2D(2,2),\n",
        "  tf.keras.layers.Flatten(),\n",
        "  tf.keras.layers.Dense(128, activation='relu'),\n",
        "  tf.keras.layers.Dense(2, activation='softmax')\n",
        "])"
      ],
      "execution_count": 0,
      "outputs": []
    },
    {
      "cell_type": "code",
      "metadata": {
        "id": "pUNeDZwqpjQw",
        "colab_type": "code",
        "outputId": "6f4e7be4-c04e-430d-9f28-e1edf35ea6d6",
        "colab": {
          "base_uri": "https://localhost:8080/",
          "height": 924
        }
      },
      "source": [
        "# Training\n",
        "\n",
        "model.compile(optimizer='adam', loss='sparse_categorical_crossentropy', metrics=['accuracy'])\n",
        "model.summary()\n",
        "model.fit(training_images, training_labels, epochs=15)\n",
        "validation_loss = model.evaluate(validation_images, validation_labels)"
      ],
      "execution_count": 108,
      "outputs": [
        {
          "output_type": "stream",
          "text": [
            "Model: \"sequential_1\"\n",
            "_________________________________________________________________\n",
            "Layer (type)                 Output Shape              Param #   \n",
            "=================================================================\n",
            "conv2d_2 (Conv2D)            (None, 99, 99, 64)        1792      \n",
            "_________________________________________________________________\n",
            "max_pooling2d_2 (MaxPooling2 (None, 49, 49, 64)        0         \n",
            "_________________________________________________________________\n",
            "conv2d_3 (Conv2D)            (None, 47, 47, 64)        36928     \n",
            "_________________________________________________________________\n",
            "max_pooling2d_3 (MaxPooling2 (None, 23, 23, 64)        0         \n",
            "_________________________________________________________________\n",
            "flatten_1 (Flatten)          (None, 33856)             0         \n",
            "_________________________________________________________________\n",
            "dense_2 (Dense)              (None, 128)               4333696   \n",
            "_________________________________________________________________\n",
            "dense_3 (Dense)              (None, 2)                 258       \n",
            "=================================================================\n",
            "Total params: 4,372,674\n",
            "Trainable params: 4,372,674\n",
            "Non-trainable params: 0\n",
            "_________________________________________________________________\n",
            "Train on 1050 samples\n",
            "Epoch 1/15\n",
            "1050/1050 [==============================] - 23s 22ms/sample - loss: 0.5377 - acc: 0.7543\n",
            "Epoch 2/15\n",
            "1050/1050 [==============================] - 22s 21ms/sample - loss: 0.5303 - acc: 0.7562\n",
            "Epoch 3/15\n",
            "1050/1050 [==============================] - 23s 21ms/sample - loss: 0.5080 - acc: 0.7657\n",
            "Epoch 4/15\n",
            "1050/1050 [==============================] - 23s 22ms/sample - loss: 0.4958 - acc: 0.7676\n",
            "Epoch 5/15\n",
            "1050/1050 [==============================] - 23s 21ms/sample - loss: 0.4954 - acc: 0.7771\n",
            "Epoch 6/15\n",
            "1050/1050 [==============================] - 23s 22ms/sample - loss: 0.4479 - acc: 0.8133\n",
            "Epoch 7/15\n",
            "1050/1050 [==============================] - 22s 21ms/sample - loss: 0.4511 - acc: 0.8029\n",
            "Epoch 8/15\n",
            "1050/1050 [==============================] - 22s 21ms/sample - loss: 0.4163 - acc: 0.8229\n",
            "Epoch 9/15\n",
            "1050/1050 [==============================] - 23s 22ms/sample - loss: 0.3934 - acc: 0.8343\n",
            "Epoch 10/15\n",
            "1050/1050 [==============================] - 23s 21ms/sample - loss: 0.3971 - acc: 0.8324\n",
            "Epoch 11/15\n",
            "1050/1050 [==============================] - 23s 21ms/sample - loss: 0.3672 - acc: 0.8371\n",
            "Epoch 12/15\n",
            "1050/1050 [==============================] - 22s 21ms/sample - loss: 0.3192 - acc: 0.8790\n",
            "Epoch 13/15\n",
            "1050/1050 [==============================] - 22s 21ms/sample - loss: 0.2933 - acc: 0.8743\n",
            "Epoch 14/15\n",
            "1050/1050 [==============================] - 23s 22ms/sample - loss: 0.2976 - acc: 0.8848\n",
            "Epoch 15/15\n",
            "1050/1050 [==============================] - 22s 21ms/sample - loss: 0.2620 - acc: 0.9029\n",
            "450/450 [==============================] - 3s 6ms/sample - loss: 0.5861 - acc: 0.7511\n"
          ],
          "name": "stdout"
        }
      ]
    },
    {
      "cell_type": "code",
      "metadata": {
        "id": "gvLY_yRktddD",
        "colab_type": "code",
        "colab": {}
      },
      "source": [
        "# Classify test data\n",
        "\n",
        "test_predictions = model.predict(test_images)"
      ],
      "execution_count": 0,
      "outputs": []
    },
    {
      "cell_type": "code",
      "metadata": {
        "id": "jK7o9p7juDLv",
        "colab_type": "code",
        "colab": {}
      },
      "source": [
        "submission = pd.DataFrame({\"id\":test_labels, \"score\":test_predictions[:,1]})\n",
        "submission\n",
        "\n",
        "submission.to_csv(\"/content/drive/My Drive/kaggle/submission_02142020.csv\", index = False)"
      ],
      "execution_count": 0,
      "outputs": []
    }
  ]
}