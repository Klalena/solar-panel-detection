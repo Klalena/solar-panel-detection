{
  "nbformat": 4,
  "nbformat_minor": 0,
  "metadata": {
    "colab": {
      "name": "Solar PV in Aerial Imagery - IDS 705.ipynb",
      "provenance": [],
      "collapsed_sections": [],
      "machine_shape": "hm",
      "authorship_tag": "ABX9TyMji7SW6NG7b2xXy2vzYLI2",
      "include_colab_link": true
    },
    "kernelspec": {
      "name": "python3",
      "display_name": "Python 3"
    },
    "accelerator": "GPU"
  },
  "cells": [
    {
      "cell_type": "markdown",
      "metadata": {
        "id": "view-in-github",
        "colab_type": "text"
      },
      "source": [
        "<a href=\"https://colab.research.google.com/github/arathee2/black-mamba/blob/Juan/Solar_PV_in_Aerial_Imagery_IDS_705.ipynb\" target=\"_parent\"><img src=\"https://colab.research.google.com/assets/colab-badge.svg\" alt=\"Open In Colab\"/></a>"
      ]
    },
    {
      "cell_type": "code",
      "metadata": {
        "id": "aufOFFq3VvIw",
        "colab_type": "code",
        "outputId": "7dec00cd-6276-4882-fe82-a0720e61436e",
        "colab": {
          "base_uri": "https://localhost:8080/",
          "height": 34
        }
      },
      "source": [
        "import tensorflow as tf\n",
        "import pandas as pd\n",
        "import numpy as np\n",
        "import matplotlib.pyplot as plt\n",
        "import matplotlib as mpl\n",
        "from sklearn.model_selection import StratifiedKFold\n",
        "from sklearn.neighbors import KNeighborsClassifier\n",
        "import sklearn.metrics as metrics\n",
        "from sklearn.model_selection import train_test_split\n",
        "from sklearn.metrics import roc_auc_score\n",
        "from keras.callbacks import Callback\n",
        "from tensorflow.keras.optimizers import RMSprop\n",
        "\n",
        "\n",
        "# Google Drive Connection\n",
        "from google.colab import drive\n",
        "drive.mount('/content/drive')"
      ],
      "execution_count": 49,
      "outputs": [
        {
          "output_type": "stream",
          "text": [
            "Drive already mounted at /content/drive; to attempt to forcibly remount, call drive.mount(\"/content/drive\", force_remount=True).\n"
          ],
          "name": "stdout"
        }
      ]
    },
    {
      "cell_type": "code",
      "metadata": {
        "id": "-CXm46lJsRon",
        "colab_type": "code",
        "outputId": "395f359c-f6fc-4e38-da2c-b22118143921",
        "colab": {
          "base_uri": "https://localhost:8080/",
          "height": 302
        }
      },
      "source": [
        "# Which GPU do I have?\n",
        "\n",
        "gpu_info = !nvidia-smi\n",
        "gpu_info = '\\n'.join(gpu_info)\n",
        "if gpu_info.find('failed') >= 0:\n",
        "  print('Select the Runtime → \"Change runtime type\" menu to enable a GPU accelerator, ')\n",
        "  print('and then re-execute this cell.')\n",
        "else:\n",
        "  print(gpu_info)"
      ],
      "execution_count": 3,
      "outputs": [
        {
          "output_type": "stream",
          "text": [
            "Fri Feb 14 21:34:34 2020       \n",
            "+-----------------------------------------------------------------------------+\n",
            "| NVIDIA-SMI 440.48.02    Driver Version: 418.67       CUDA Version: 10.1     |\n",
            "|-------------------------------+----------------------+----------------------+\n",
            "| GPU  Name        Persistence-M| Bus-Id        Disp.A | Volatile Uncorr. ECC |\n",
            "| Fan  Temp  Perf  Pwr:Usage/Cap|         Memory-Usage | GPU-Util  Compute M. |\n",
            "|===============================+======================+======================|\n",
            "|   0  Tesla P100-PCIE...  Off  | 00000000:00:04.0 Off |                    0 |\n",
            "| N/A   34C    P0    26W / 250W |      0MiB / 16280MiB |      0%      Default |\n",
            "+-------------------------------+----------------------+----------------------+\n",
            "                                                                               \n",
            "+-----------------------------------------------------------------------------+\n",
            "| Processes:                                                       GPU Memory |\n",
            "|  GPU       PID   Type   Process name                             Usage      |\n",
            "|=============================================================================|\n",
            "|  No running processes found                                                 |\n",
            "+-----------------------------------------------------------------------------+\n"
          ],
          "name": "stdout"
        }
      ]
    },
    {
      "cell_type": "code",
      "metadata": {
        "id": "y6Bgl1fUboUN",
        "colab_type": "code",
        "outputId": "d7602cd4-e7f2-46bd-9a9a-2b894edfd25d",
        "colab": {
          "base_uri": "https://localhost:8080/",
          "height": 50
        }
      },
      "source": [
        "# Load Kaggle images\n",
        "\n",
        "!ls \"/content/drive/My Drive/kaggle\" \n",
        "\n",
        "'''\n",
        "Set directory parameters\n",
        "'''\n",
        "dir_train_images  = '/content/drive/My Drive/kaggle/training/'\n",
        "dir_test_images   = '/content/drive/My Drive/kaggle/testing/'\n",
        "dir_train_labels  = '/content/drive/My Drive/kaggle/labels_training.csv'\n",
        "dir_test_ids      = '/content/drive/My Drive/kaggle/sample_submission.csv'"
      ],
      "execution_count": 4,
      "outputs": [
        {
          "output_type": "stream",
          "text": [
            "labels_training.csv    solar_classification.py\ttesting\n",
            "sample_submission.csv  submission_02142020.csv\ttraining\n"
          ],
          "name": "stdout"
        }
      ]
    },
    {
      "cell_type": "code",
      "metadata": {
        "id": "z_OOYzCYeFsz",
        "colab_type": "code",
        "colab": {}
      },
      "source": [
        "def load_data(dir_data, dir_labels, training=True):\n",
        "    ''' Load each of the image files into memory \n",
        "\n",
        "    While this is feasible with a smaller dataset, for larger datasets,\n",
        "    not all the images would be able to be loaded into memory\n",
        "\n",
        "    When training=True, the labels are also loaded\n",
        "    '''\n",
        "    labels_pd = pd.read_csv(dir_labels)\n",
        "    ids       = labels_pd.id.values\n",
        "    data      = []\n",
        "    for identifier in ids:\n",
        "        fname     = dir_data + identifier.astype(str) + '.tif'\n",
        "        image     = mpl.image.imread(fname)\n",
        "        data.append(image)\n",
        "    data = np.array(data) # Convert to Numpy array\n",
        "    if training:\n",
        "        labels = labels_pd.label.values\n",
        "        return data, labels\n",
        "    else:\n",
        "        return data, ids"
      ],
      "execution_count": 0,
      "outputs": []
    },
    {
      "cell_type": "code",
      "metadata": {
        "id": "7m__VxywizMP",
        "colab_type": "code",
        "colab": {}
      },
      "source": [
        "# Split available images in training and validation\n",
        "images, labels = load_data(dir_train_images, dir_train_labels, training=True)\n",
        "\n",
        "training_images, validation_images, training_labels, validation_labels = train_test_split(images, labels, test_size=0.3)\n",
        "test_images, test_ids = load_data(dir_test_images, dir_test_ids, training=False)"
      ],
      "execution_count": 0,
      "outputs": []
    },
    {
      "cell_type": "code",
      "metadata": {
        "id": "xmGC1vXklHiX",
        "colab_type": "code",
        "outputId": "266b21c0-3983-4fe4-b97e-b8693637a206",
        "colab": {
          "base_uri": "https://localhost:8080/",
          "height": 118
        }
      },
      "source": [
        "print(training_images.shape)\n",
        "print(training_labels.shape)\n",
        "print(validation_images.shape)\n",
        "print(validation_labels.shape)\n",
        "print(test_images.shape)\n",
        "print(test_ids.shape)"
      ],
      "execution_count": 9,
      "outputs": [
        {
          "output_type": "stream",
          "text": [
            "(1050, 101, 101, 3)\n",
            "(1050,)\n",
            "(450, 101, 101, 3)\n",
            "(450,)\n",
            "(558, 101, 101, 3)\n",
            "(558,)\n"
          ],
          "name": "stdout"
        }
      ]
    },
    {
      "cell_type": "code",
      "metadata": {
        "id": "OR49hT4BlzJU",
        "colab_type": "code",
        "colab": {}
      },
      "source": [
        "training_images=training_images / 255.0\n",
        "validation_images=validation_images / 255.0\n",
        "test_images=test_images/255.0"
      ],
      "execution_count": 0,
      "outputs": []
    },
    {
      "cell_type": "code",
      "metadata": {
        "id": "Pv62gS6vl7Fp",
        "colab_type": "code",
        "outputId": "3da106a5-9e93-4bbc-dfa0-28ba12b8fe8b",
        "colab": {
          "base_uri": "https://localhost:8080/",
          "height": 857
        }
      },
      "source": [
        "# CNN - Network design\n",
        "\n",
        "model = tf.keras.models.Sequential([\n",
        "  tf.keras.layers.Conv2D(64, (3,3), activation='relu', input_shape=(101, 101, 3), kernel_regularizer = tf.keras.regularizers.l2(0)), # 64 convolutions or 'filters' each filter is 3x3\n",
        "  tf.keras.layers.MaxPooling2D(2, 2), # Pooling with 2x2 matrix\n",
        "# tf.keras.layers.Conv2D(64, (3,3), activation='relu', kernel_regularizer = tf.keras.regularizers.l2(0.01)), # 64 convolutions or 'filters' each filter is 3x3\n",
        "# tf.keras.layers.MaxPooling2D(2,2),\n",
        "  tf.keras.layers.Flatten(),\n",
        "  tf.keras.layers.Dense(512, activation='relu'),\n",
        "  tf.keras.layers.Dense(1, activation='sigmoid')\n",
        "])\n",
        "\n",
        "# Training\n",
        "\n",
        "model.compile(optimizer='adam', loss='binary_crossentropy', metrics=['accuracy'])\n",
        "model.summary()\n",
        "\n",
        "model.fit(training_images, training_labels, epochs=15)\n",
        "validation_loss = model.evaluate(validation_images, validation_labels)"
      ],
      "execution_count": 59,
      "outputs": [
        {
          "output_type": "stream",
          "text": [
            "Model: \"sequential_42\"\n",
            "_________________________________________________________________\n",
            "Layer (type)                 Output Shape              Param #   \n",
            "=================================================================\n",
            "conv2d_57 (Conv2D)           (None, 99, 99, 64)        1792      \n",
            "_________________________________________________________________\n",
            "max_pooling2d_57 (MaxPooling (None, 49, 49, 64)        0         \n",
            "_________________________________________________________________\n",
            "flatten_42 (Flatten)         (None, 153664)            0         \n",
            "_________________________________________________________________\n",
            "dense_84 (Dense)             (None, 512)               78676480  \n",
            "_________________________________________________________________\n",
            "dense_85 (Dense)             (None, 1)                 513       \n",
            "=================================================================\n",
            "Total params: 78,678,785\n",
            "Trainable params: 78,678,785\n",
            "Non-trainable params: 0\n",
            "_________________________________________________________________\n",
            "Train on 1050 samples\n",
            "Epoch 1/15\n",
            "1050/1050 [==============================] - 1s 879us/sample - loss: 2.9959 - acc: 0.6219\n",
            "Epoch 2/15\n",
            "1050/1050 [==============================] - 1s 563us/sample - loss: 0.5990 - acc: 0.6838\n",
            "Epoch 3/15\n",
            "1050/1050 [==============================] - 1s 589us/sample - loss: 0.5066 - acc: 0.7714\n",
            "Epoch 4/15\n",
            "1050/1050 [==============================] - 1s 585us/sample - loss: 0.3863 - acc: 0.8514\n",
            "Epoch 5/15\n",
            "1050/1050 [==============================] - 1s 587us/sample - loss: 0.3404 - acc: 0.8610\n",
            "Epoch 6/15\n",
            "1050/1050 [==============================] - 1s 597us/sample - loss: 0.2576 - acc: 0.9095\n",
            "Epoch 7/15\n",
            "1050/1050 [==============================] - 1s 587us/sample - loss: 0.2029 - acc: 0.9410\n",
            "Epoch 8/15\n",
            "1050/1050 [==============================] - 1s 602us/sample - loss: 0.1118 - acc: 0.9829\n",
            "Epoch 9/15\n",
            "1050/1050 [==============================] - 1s 601us/sample - loss: 0.0672 - acc: 0.9952\n",
            "Epoch 10/15\n",
            "1050/1050 [==============================] - 1s 605us/sample - loss: 0.0575 - acc: 0.9981\n",
            "Epoch 11/15\n",
            "1050/1050 [==============================] - 1s 595us/sample - loss: 0.0324 - acc: 1.0000\n",
            "Epoch 12/15\n",
            "1050/1050 [==============================] - 1s 595us/sample - loss: 0.0216 - acc: 1.0000\n",
            "Epoch 13/15\n",
            "1050/1050 [==============================] - 1s 586us/sample - loss: 0.0182 - acc: 1.0000\n",
            "Epoch 14/15\n",
            "1050/1050 [==============================] - 1s 593us/sample - loss: 0.0121 - acc: 1.0000\n",
            "Epoch 15/15\n",
            "1050/1050 [==============================] - 1s 604us/sample - loss: 0.0101 - acc: 1.0000\n",
            "450/450 [==============================] - 0s 965us/sample - loss: 0.6469 - acc: 0.7844\n"
          ],
          "name": "stdout"
        }
      ]
    },
    {
      "cell_type": "code",
      "metadata": {
        "id": "gvLY_yRktddD",
        "colab_type": "code",
        "colab": {}
      },
      "source": [
        "# Classify test data\n",
        "\n",
        "test_predictions = model.predict(test_images)"
      ],
      "execution_count": 0,
      "outputs": []
    },
    {
      "cell_type": "code",
      "metadata": {
        "id": "jK7o9p7juDLv",
        "colab_type": "code",
        "colab": {}
      },
      "source": [
        "submission = pd.DataFrame({\"id\":test_ids, \"score\":test_predictions[:,0]})\n",
        "submission\n",
        "\n",
        "submission.to_csv(\"/content/drive/My Drive/kaggle/submission_02142020_3.csv\", index = False)"
      ],
      "execution_count": 0,
      "outputs": []
    }
  ]
}