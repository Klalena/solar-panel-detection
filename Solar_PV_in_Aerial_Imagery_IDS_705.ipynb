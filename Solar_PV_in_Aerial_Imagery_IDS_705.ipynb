{
  "nbformat": 4,
  "nbformat_minor": 0,
  "metadata": {
    "colab": {
      "name": "Solar PV in Aerial Imagery - IDS 705.ipynb",
      "provenance": [],
      "collapsed_sections": [],
      "machine_shape": "hm",
      "authorship_tag": "ABX9TyOCzSu0mrsaN0VxrOJ9i88I",
      "include_colab_link": true
    },
    "kernelspec": {
      "name": "python3",
      "display_name": "Python 3"
    },
    "accelerator": "GPU"
  },
  "cells": [
    {
      "cell_type": "markdown",
      "metadata": {
        "id": "view-in-github",
        "colab_type": "text"
      },
      "source": [
        "<a href=\"https://colab.research.google.com/github/arathee2/black-mamba/blob/Juan/Solar_PV_in_Aerial_Imagery_IDS_705.ipynb\" target=\"_parent\"><img src=\"https://colab.research.google.com/assets/colab-badge.svg\" alt=\"Open In Colab\"/></a>"
      ]
    },
    {
      "cell_type": "code",
      "metadata": {
        "id": "aufOFFq3VvIw",
        "colab_type": "code",
        "outputId": "7c71500e-8da8-4b8b-a0b1-9de1e67fc880",
        "colab": {
          "base_uri": "https://localhost:8080/",
          "height": 183
        }
      },
      "source": [
        "import tensorflow as tf\n",
        "import pandas as pd\n",
        "import numpy as np\n",
        "import matplotlib.pyplot as plt\n",
        "import matplotlib as mpl\n",
        "from sklearn.model_selection import StratifiedKFold\n",
        "from sklearn.neighbors import KNeighborsClassifier\n",
        "import sklearn.metrics as metrics\n",
        "from sklearn.model_selection import train_test_split\n",
        "from sklearn.metrics import roc_auc_score\n",
        "from keras.callbacks import Callback\n",
        "from tensorflow.keras.optimizers import RMSprop\n",
        "\n",
        "\n",
        "# Google Drive Connection\n",
        "from google.colab import drive\n",
        "drive.mount('/content/drive')"
      ],
      "execution_count": 1,
      "outputs": [
        {
          "output_type": "display_data",
          "data": {
            "text/html": [
              "<p style=\"color: red;\">\n",
              "The default version of TensorFlow in Colab will soon switch to TensorFlow 2.x.<br>\n",
              "We recommend you <a href=\"https://www.tensorflow.org/guide/migrate\" target=\"_blank\">upgrade</a> now \n",
              "or ensure your notebook will continue to use TensorFlow 1.x via the <code>%tensorflow_version 1.x</code> magic:\n",
              "<a href=\"https://colab.research.google.com/notebooks/tensorflow_version.ipynb\" target=\"_blank\">more info</a>.</p>\n"
            ],
            "text/plain": [
              "<IPython.core.display.HTML object>"
            ]
          },
          "metadata": {
            "tags": []
          }
        },
        {
          "output_type": "stream",
          "text": [
            "Using TensorFlow backend.\n"
          ],
          "name": "stderr"
        },
        {
          "output_type": "stream",
          "text": [
            "Go to this URL in a browser: https://accounts.google.com/o/oauth2/auth?client_id=947318989803-6bn6qk8qdgf4n4g3pfee6491hc0brc4i.apps.googleusercontent.com&redirect_uri=urn%3aietf%3awg%3aoauth%3a2.0%3aoob&response_type=code&scope=email%20https%3a%2f%2fwww.googleapis.com%2fauth%2fdocs.test%20https%3a%2f%2fwww.googleapis.com%2fauth%2fdrive%20https%3a%2f%2fwww.googleapis.com%2fauth%2fdrive.photos.readonly%20https%3a%2f%2fwww.googleapis.com%2fauth%2fpeopleapi.readonly\n",
            "\n",
            "Enter your authorization code:\n",
            "··········\n",
            "Mounted at /content/drive\n"
          ],
          "name": "stdout"
        }
      ]
    },
    {
      "cell_type": "code",
      "metadata": {
        "id": "-CXm46lJsRon",
        "colab_type": "code",
        "outputId": "21d232a3-6d6e-4d6c-9903-567be031de19",
        "colab": {
          "base_uri": "https://localhost:8080/",
          "height": 302
        }
      },
      "source": [
        "# Which GPU do I have?\n",
        "\n",
        "gpu_info = !nvidia-smi\n",
        "gpu_info = '\\n'.join(gpu_info)\n",
        "if gpu_info.find('failed') >= 0:\n",
        "  print('Select the Runtime → \"Change runtime type\" menu to enable a GPU accelerator, ')\n",
        "  print('and then re-execute this cell.')\n",
        "else:\n",
        "  print(gpu_info)"
      ],
      "execution_count": 2,
      "outputs": [
        {
          "output_type": "stream",
          "text": [
            "Fri Feb 14 22:46:39 2020       \n",
            "+-----------------------------------------------------------------------------+\n",
            "| NVIDIA-SMI 440.48.02    Driver Version: 418.67       CUDA Version: 10.1     |\n",
            "|-------------------------------+----------------------+----------------------+\n",
            "| GPU  Name        Persistence-M| Bus-Id        Disp.A | Volatile Uncorr. ECC |\n",
            "| Fan  Temp  Perf  Pwr:Usage/Cap|         Memory-Usage | GPU-Util  Compute M. |\n",
            "|===============================+======================+======================|\n",
            "|   0  Tesla P100-PCIE...  Off  | 00000000:00:04.0 Off |                    0 |\n",
            "| N/A   40C    P0    25W / 250W |      0MiB / 16280MiB |      0%      Default |\n",
            "+-------------------------------+----------------------+----------------------+\n",
            "                                                                               \n",
            "+-----------------------------------------------------------------------------+\n",
            "| Processes:                                                       GPU Memory |\n",
            "|  GPU       PID   Type   Process name                             Usage      |\n",
            "|=============================================================================|\n",
            "|  No running processes found                                                 |\n",
            "+-----------------------------------------------------------------------------+\n"
          ],
          "name": "stdout"
        }
      ]
    },
    {
      "cell_type": "code",
      "metadata": {
        "id": "y6Bgl1fUboUN",
        "colab_type": "code",
        "outputId": "4b39c282-341a-4794-dccd-0d72b92e3118",
        "colab": {
          "base_uri": "https://localhost:8080/",
          "height": 67
        }
      },
      "source": [
        "# Load Kaggle images\n",
        "\n",
        "!ls \"/content/drive/My Drive/kaggle\" \n",
        "\n",
        "'''\n",
        "Set directory parameters\n",
        "'''\n",
        "dir_train_images  = '/content/drive/My Drive/kaggle/training/'\n",
        "dir_test_images   = '/content/drive/My Drive/kaggle/testing/'\n",
        "dir_train_labels  = '/content/drive/My Drive/kaggle/labels_training.csv'\n",
        "dir_test_ids      = '/content/drive/My Drive/kaggle/sample_submission.csv'"
      ],
      "execution_count": 3,
      "outputs": [
        {
          "output_type": "stream",
          "text": [
            "labels_training.csv\t submission_02142020_2.csv  testing\n",
            "sample_submission.csv\t submission_02142020_3.csv  training\n",
            "solar_classification.py  submission_02142020.csv\n"
          ],
          "name": "stdout"
        }
      ]
    },
    {
      "cell_type": "code",
      "metadata": {
        "id": "z_OOYzCYeFsz",
        "colab_type": "code",
        "colab": {}
      },
      "source": [
        "def load_data(dir_data, dir_labels, training=True):\n",
        "    ''' Load each of the image files into memory \n",
        "\n",
        "    While this is feasible with a smaller dataset, for larger datasets,\n",
        "    not all the images would be able to be loaded into memory\n",
        "\n",
        "    When training=True, the labels are also loaded\n",
        "    '''\n",
        "    labels_pd = pd.read_csv(dir_labels)\n",
        "    ids       = labels_pd.id.values\n",
        "    data      = []\n",
        "    for identifier in ids:\n",
        "        fname     = dir_data + identifier.astype(str) + '.tif'\n",
        "        image     = mpl.image.imread(fname)\n",
        "        data.append(image)\n",
        "    data = np.array(data) # Convert to Numpy array\n",
        "    if training:\n",
        "        labels = labels_pd.label.values\n",
        "        return data, labels\n",
        "    else:\n",
        "        return data, ids"
      ],
      "execution_count": 0,
      "outputs": []
    },
    {
      "cell_type": "code",
      "metadata": {
        "id": "7m__VxywizMP",
        "colab_type": "code",
        "colab": {}
      },
      "source": [
        "# Split available images in training and validation\n",
        "images, labels = load_data(dir_train_images, dir_train_labels, training=True)\n",
        "\n",
        "training_images, validation_images, training_labels, validation_labels = train_test_split(images, labels, test_size=0.3)\n",
        "test_images, test_ids = load_data(dir_test_images, dir_test_ids, training=False)"
      ],
      "execution_count": 0,
      "outputs": []
    },
    {
      "cell_type": "code",
      "metadata": {
        "id": "xmGC1vXklHiX",
        "colab_type": "code",
        "outputId": "4f33f971-dfbb-43c0-abde-0c73de2fbbbf",
        "colab": {
          "base_uri": "https://localhost:8080/",
          "height": 118
        }
      },
      "source": [
        "print(training_images.shape)\n",
        "print(training_labels.shape)\n",
        "print(validation_images.shape)\n",
        "print(validation_labels.shape)\n",
        "print(test_images.shape)\n",
        "print(test_ids.shape)"
      ],
      "execution_count": 6,
      "outputs": [
        {
          "output_type": "stream",
          "text": [
            "(1050, 101, 101, 3)\n",
            "(1050,)\n",
            "(450, 101, 101, 3)\n",
            "(450,)\n",
            "(558, 101, 101, 3)\n",
            "(558,)\n"
          ],
          "name": "stdout"
        }
      ]
    },
    {
      "cell_type": "code",
      "metadata": {
        "id": "OR49hT4BlzJU",
        "colab_type": "code",
        "colab": {}
      },
      "source": [
        "training_images=training_images / 255.0\n",
        "validation_images=validation_images / 255.0\n",
        "test_images=test_images/255.0"
      ],
      "execution_count": 0,
      "outputs": []
    },
    {
      "cell_type": "code",
      "metadata": {
        "id": "DK0FFvgACt-T",
        "colab_type": "code",
        "colab": {}
      },
      "source": [
        "# Release GPU memory\n",
        "\n",
        "tf.keras.backend.clear_session()\n",
        "tf.reset_default_graph()"
      ],
      "execution_count": 0,
      "outputs": []
    },
    {
      "cell_type": "code",
      "metadata": {
        "id": "Pv62gS6vl7Fp",
        "colab_type": "code",
        "outputId": "74b3bdb8-8457-48d2-8613-4b1dc5219fc2",
        "colab": {
          "base_uri": "https://localhost:8080/",
          "height": 1000
        }
      },
      "source": [
        "# CNN - Network design\n",
        "\n",
        "# Release GPU memory\n",
        "tf.keras.backend.clear_session()\n",
        "tf.reset_default_graph()\n",
        "\n",
        "# Class to stop training when 99.9% accuracy is reached\n",
        "class myCallback(tf.keras.callbacks.Callback):\n",
        "  def on_epoch_end(self, epoch, logs={}):\n",
        "    if(logs.get('acc')>0.999):\n",
        "      print(\"\\nReached 99.9% accuracy so cancelling training!\")\n",
        "      self.model.stop_training = True\n",
        "\n",
        "callbacks = myCallback()\n",
        "\n",
        "# Model\n",
        "model = tf.keras.models.Sequential([\n",
        "  tf.keras.layers.Conv2D(32, (2,2), activation='relu', input_shape=(101, 101, 3), kernel_regularizer = tf.keras.regularizers.l2(0.5)), # 64 convolutions or 'filters' each filter is 3x3\n",
        "  tf.keras.layers.MaxPooling2D(2, 2), # Pooling with 2x2 matrix\n",
        "# tf.keras.layers.Conv2D(64, (3,3), activation='relu', kernel_regularizer = tf.keras.regularizers.l2(0.01)), # 64 convolutions or 'filters' each filter is 3x3\n",
        "# tf.keras.layers.MaxPooling2D(2,2),\n",
        "  tf.keras.layers.Flatten(),\n",
        "  tf.keras.layers.Dense(1024, activation='relu'), # Second best: 1024 neurons\n",
        "  tf.keras.layers.Dense(1, activation='sigmoid')\n",
        "])\n",
        "\n",
        "# Training\n",
        "model.compile(optimizer='adam', loss='binary_crossentropy', metrics=['accuracy'])\n",
        "model.summary()\n",
        "\n",
        "model.fit(training_images, training_labels, epochs=50, callbacks=[callbacks])\n",
        "validation_loss = model.evaluate(validation_images, validation_labels)"
      ],
      "execution_count": 101,
      "outputs": [
        {
          "output_type": "stream",
          "text": [
            "Model: \"sequential\"\n",
            "_________________________________________________________________\n",
            "Layer (type)                 Output Shape              Param #   \n",
            "=================================================================\n",
            "conv2d (Conv2D)              (None, 100, 100, 32)      416       \n",
            "_________________________________________________________________\n",
            "max_pooling2d (MaxPooling2D) (None, 50, 50, 32)        0         \n",
            "_________________________________________________________________\n",
            "flatten (Flatten)            (None, 80000)             0         \n",
            "_________________________________________________________________\n",
            "dense (Dense)                (None, 1024)              81921024  \n",
            "_________________________________________________________________\n",
            "dense_1 (Dense)              (None, 1)                 1025      \n",
            "=================================================================\n",
            "Total params: 81,922,465\n",
            "Trainable params: 81,922,465\n",
            "Non-trainable params: 0\n",
            "_________________________________________________________________\n",
            "Train on 1050 samples\n",
            "Epoch 1/50\n",
            "1050/1050 [==============================] - 1s 819us/sample - loss: 4.4203 - acc: 0.5848\n",
            "Epoch 2/50\n",
            "1050/1050 [==============================] - 1s 720us/sample - loss: 2.3379 - acc: 0.6676\n",
            "Epoch 3/50\n",
            "1050/1050 [==============================] - 1s 726us/sample - loss: 1.9268 - acc: 0.7010\n",
            "Epoch 4/50\n",
            "1050/1050 [==============================] - 1s 725us/sample - loss: 1.6714 - acc: 0.7171\n",
            "Epoch 5/50\n",
            "1050/1050 [==============================] - 1s 731us/sample - loss: 1.4512 - acc: 0.7819\n",
            "Epoch 6/50\n",
            "1050/1050 [==============================] - 1s 712us/sample - loss: 1.2921 - acc: 0.8086\n",
            "Epoch 7/50\n",
            "1050/1050 [==============================] - 1s 725us/sample - loss: 1.1438 - acc: 0.8429\n",
            "Epoch 8/50\n",
            "1050/1050 [==============================] - 1s 713us/sample - loss: 1.0889 - acc: 0.8029\n",
            "Epoch 9/50\n",
            "1050/1050 [==============================] - 1s 725us/sample - loss: 0.9518 - acc: 0.8781\n",
            "Epoch 10/50\n",
            "1050/1050 [==============================] - 1s 715us/sample - loss: 0.8723 - acc: 0.8905\n",
            "Epoch 11/50\n",
            "1050/1050 [==============================] - 1s 727us/sample - loss: 0.7630 - acc: 0.9181\n",
            "Epoch 12/50\n",
            "1050/1050 [==============================] - 1s 719us/sample - loss: 0.6876 - acc: 0.9362\n",
            "Epoch 13/50\n",
            "1050/1050 [==============================] - 1s 731us/sample - loss: 0.6576 - acc: 0.9190\n",
            "Epoch 14/50\n",
            "1050/1050 [==============================] - 1s 719us/sample - loss: 0.5985 - acc: 0.9333\n",
            "Epoch 15/50\n",
            "1050/1050 [==============================] - 1s 729us/sample - loss: 0.5318 - acc: 0.9610\n",
            "Epoch 16/50\n",
            "1050/1050 [==============================] - 1s 714us/sample - loss: 0.4823 - acc: 0.9619\n",
            "Epoch 17/50\n",
            "1050/1050 [==============================] - 1s 726us/sample - loss: 0.4348 - acc: 0.9781\n",
            "Epoch 18/50\n",
            "1050/1050 [==============================] - 1s 720us/sample - loss: 0.4137 - acc: 0.9752\n",
            "Epoch 19/50\n",
            "1050/1050 [==============================] - 1s 725us/sample - loss: 0.4291 - acc: 0.9514\n",
            "Epoch 20/50\n",
            "1050/1050 [==============================] - 1s 721us/sample - loss: 0.3487 - acc: 0.9886\n",
            "Epoch 21/50\n",
            "1050/1050 [==============================] - 1s 723us/sample - loss: 0.3171 - acc: 0.9943\n",
            "Epoch 22/50\n",
            "1050/1050 [==============================] - 1s 723us/sample - loss: 0.3041 - acc: 0.9924\n",
            "Epoch 23/50\n",
            "1050/1050 [==============================] - 1s 719us/sample - loss: 0.2781 - acc: 0.9943\n",
            "Epoch 24/50\n",
            "1050/1050 [==============================] - 1s 718us/sample - loss: 0.2536 - acc: 0.9981\n",
            "Epoch 25/50\n",
            "1050/1050 [==============================] - 1s 723us/sample - loss: 0.2568 - acc: 0.9943\n",
            "Epoch 26/50\n",
            "1050/1050 [==============================] - 1s 713us/sample - loss: 0.2350 - acc: 0.9962\n",
            "Epoch 27/50\n",
            " 992/1050 [===========================>..] - ETA: 0s - loss: 0.2154 - acc: 0.9990\n",
            "Reached 99.9% accuracy so cancelling training!\n",
            "1050/1050 [==============================] - 1s 727us/sample - loss: 0.2153 - acc: 0.9990\n",
            "450/450 [==============================] - 0s 489us/sample - loss: 0.6626 - acc: 0.7933\n"
          ],
          "name": "stdout"
        }
      ]
    },
    {
      "cell_type": "code",
      "metadata": {
        "id": "gvLY_yRktddD",
        "colab_type": "code",
        "colab": {}
      },
      "source": [
        "# Classify test data\n",
        "\n",
        "test_predictions = model.predict(test_images)"
      ],
      "execution_count": 0,
      "outputs": []
    },
    {
      "cell_type": "code",
      "metadata": {
        "id": "jK7o9p7juDLv",
        "colab_type": "code",
        "colab": {}
      },
      "source": [
        "submission = pd.DataFrame({\"id\":test_ids, \"score\":test_predictions[:,0]})\n",
        "submission\n",
        "\n",
        "submission.to_csv(\"/content/drive/My Drive/kaggle/submission_02142020_5.csv\", index = False)"
      ],
      "execution_count": 0,
      "outputs": []
    }
  ]
}